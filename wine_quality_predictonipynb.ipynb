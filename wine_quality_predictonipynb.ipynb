{
  "nbformat": 4,
  "nbformat_minor": 0,
  "metadata": {
    "colab": {
      "provenance": []
    },
    "kernelspec": {
      "name": "python3",
      "display_name": "Python 3"
    },
    "language_info": {
      "name": "python"
    }
  },
  "cells": [
    {
      "cell_type": "code",
      "execution_count": null,
      "metadata": {
        "id": "dUBIGHF5ssu5"
      },
      "outputs": [],
      "source": [
        "import numpy as np\n",
        "import matplotlib.pyplot as plt\n",
        "import pandas as pd\n",
        "import seaborn as sns\n",
        "\n",
        "\n",
        "from warnings import filterwarnings\n",
        "filterwarnings(action='ignore')"
      ]
    },
    {
      "cell_type": "markdown",
      "source": [
        "***Dataset***"
      ],
      "metadata": {
        "id": "Zqb9Tn9A6cBd"
      }
    },
    {
      "cell_type": "code",
      "source": [
        "#loading the dataset\n",
        "dataset=pd.read_csv('/content/red wine.csv')\n",
        "dataset.sample(50)"
      ],
      "metadata": {
        "id": "vnfrr-MatU2R"
      },
      "execution_count": null,
      "outputs": []
    },
    {
      "cell_type": "code",
      "source": [
        "dataset.info()"
      ],
      "metadata": {
        "id": "jH53nH8c1MYo"
      },
      "execution_count": null,
      "outputs": []
    },
    {
      "cell_type": "code",
      "source": [
        "dataset.describe()"
      ],
      "metadata": {
        "id": "lrc0NbYb1XDn"
      },
      "execution_count": null,
      "outputs": []
    },
    {
      "cell_type": "code",
      "source": [
        "#finding the missing values\n",
        "dataset.isnull().sum()"
      ],
      "metadata": {
        "id": "Mzz7-jeOuXK0"
      },
      "execution_count": null,
      "outputs": []
    },
    {
      "cell_type": "markdown",
      "source": [
        "**GROUPING THE QUALITY OF WINE**"
      ],
      "metadata": {
        "id": "X-Dn5W6O6pjz"
      }
    },
    {
      "cell_type": "code",
      "source": [
        "dataset.groupby('quality').mean()"
      ],
      "metadata": {
        "id": "PVkjdaDmujpn"
      },
      "execution_count": null,
      "outputs": []
    },
    {
      "cell_type": "markdown",
      "source": [
        "**Data Analysis**"
      ],
      "metadata": {
        "id": "36OV59wI7Dal"
      }
    },
    {
      "cell_type": "code",
      "source": [
        "sns.catplot(x='quality', data = dataset, kind = 'count')"
      ],
      "metadata": {
        "id": "HY-4Y9so12Y4"
      },
      "execution_count": null,
      "outputs": []
    },
    {
      "cell_type": "code",
      "source": [
        "dataset.plot(kind ='box',subplots = True, layout =(4,4),sharex = False)"
      ],
      "metadata": {
        "id": "fXiV5WMS2yZa"
      },
      "execution_count": null,
      "outputs": []
    },
    {
      "cell_type": "code",
      "source": [
        "dataset['fixed acidity'].plot(kind='box')"
      ],
      "metadata": {
        "id": "L89ceoxS25Je"
      },
      "execution_count": null,
      "outputs": []
    },
    {
      "cell_type": "markdown",
      "source": [
        "**HISTOGRAM**"
      ],
      "metadata": {
        "id": "s7S2HNOB7QoC"
      }
    },
    {
      "cell_type": "code",
      "source": [
        "dataset.hist(figsize=(10,10),bins=50)\n",
        "plt.show()\n"
      ],
      "metadata": {
        "id": "IIPBE4WF3C52"
      },
      "execution_count": null,
      "outputs": []
    },
    {
      "cell_type": "markdown",
      "source": [
        "**Feautre selection**"
      ],
      "metadata": {
        "id": "3zlEouSV7Zoe"
      }
    },
    {
      "cell_type": "code",
      "source": [
        "dataset.sample(10)"
      ],
      "metadata": {
        "id": "8Eg0q1CJ3PC9"
      },
      "execution_count": null,
      "outputs": []
    },
    {
      "cell_type": "code",
      "source": [
        "dataset['quality'].unique()"
      ],
      "metadata": {
        "id": "m5crOb8_3Y84"
      },
      "execution_count": null,
      "outputs": []
    },
    {
      "cell_type": "code",
      "source": [
        "# if the quality of wine is more than or equal to the 7 we will consider as good quality wine\n",
        "dataset['good quality']=[1 if x>7 else 0 for x in dataset['quality']]\n",
        "dataset.sample(5)"
      ],
      "metadata": {
        "id": "vrqk8cYf3hfV"
      },
      "execution_count": null,
      "outputs": []
    },
    {
      "cell_type": "code",
      "source": [
        "# calculating the good quality and bad quality wines samples\n",
        "dataset['good quality'].value_counts()"
      ],
      "metadata": {
        "id": "VY2v-vkp4NwA"
      },
      "execution_count": null,
      "outputs": []
    },
    {
      "cell_type": "code",
      "source": [
        "#seperating the depedent and indepedent variables\n",
        "X=dataset.drop(['quality','good quality'],axis=1)\n",
        "Y=dataset['good quality']"
      ],
      "metadata": {
        "id": "txyuqG7U4gsk"
      },
      "execution_count": null,
      "outputs": []
    },
    {
      "cell_type": "code",
      "source": [
        "X"
      ],
      "metadata": {
        "id": "6n205dmk5XiM"
      },
      "execution_count": null,
      "outputs": []
    },
    {
      "cell_type": "code",
      "source": [
        "Y"
      ],
      "metadata": {
        "id": "bCNzkmfb5Yxr"
      },
      "execution_count": null,
      "outputs": []
    },
    {
      "cell_type": "markdown",
      "source": [
        "**Spliiting The Dataset**"
      ],
      "metadata": {
        "id": "Eu_VRi0R7lMe"
      }
    },
    {
      "cell_type": "code",
      "source": [
        "from sklearn.model_selection import train_test_split\n",
        "X_train, X_test, Y_train, Y_test = train_test_split(X,Y,test_size=0.3,random_state=7)"
      ],
      "metadata": {
        "id": "cxNbmSeu5dzc"
      },
      "execution_count": null,
      "outputs": []
    },
    {
      "cell_type": "code",
      "source": [
        "model_res=pd.DataFrame(columns=['Model', 'Score'])\n"
      ],
      "metadata": {
        "id": "5B4F5QeN5jk6"
      },
      "execution_count": null,
      "outputs": []
    },
    {
      "cell_type": "markdown",
      "source": [
        "**Prediciting the quality of wine with various model training techniques**"
      ],
      "metadata": {
        "id": "lluGg_S67tWU"
      }
    },
    {
      "cell_type": "code",
      "source": [
        "#logistic regression\n",
        "\n",
        "from sklearn.linear_model import LogisticRegression\n",
        "model = LogisticRegression()\n",
        "model.fit(X_train,Y_train)\n",
        "y_pred = model.predict(X_test)\n",
        "\n",
        "from sklearn.metrics import accuracy_score,confusion_matrix\n",
        "# accuracy_score(Y_test,Y_pred)\n",
        "model_res.loc[len(model_res)] = ['LogisticRegression', accuracy_score(Y_test,y_pred)]\n",
        "model_res"
      ],
      "metadata": {
        "id": "w_lWMznl5leL"
      },
      "execution_count": null,
      "outputs": []
    },
    {
      "cell_type": "code",
      "source": [
        "#using KNN\n",
        "from sklearn.neighbors import KNeighborsClassifier\n",
        "model = KNeighborsClassifier(n_neighbors=3)\n",
        "model.fit(X_train,Y_train)\n",
        "y_pred = model.predict(X_test)\n",
        "\n",
        "from sklearn.metrics import accuracy_score\n",
        "model_res.loc[len(model_res)] = ['KNeighborsClassifier', accuracy_score(Y_test,y_pred)]\n",
        "model_res"
      ],
      "metadata": {
        "id": "8X63nj7l54BC"
      },
      "execution_count": null,
      "outputs": []
    },
    {
      "cell_type": "code",
      "source": [
        "#using decision tree\n",
        "from sklearn.tree import DecisionTreeClassifier\n",
        "model = DecisionTreeClassifier(criterion='entropy',random_state=7)\n",
        "model.fit(X_train,Y_train)\n",
        "y_pred = model.predict(X_test)\n",
        "\n",
        "from sklearn.metrics import accuracy_score\n",
        "print(\"Accuracy Score:\",accuracy_score(Y_test,y_pred))\n",
        "model_res.loc[len(model_res)] = ['DecisionTreeClassifier', accuracy_score(Y_test,y_pred)]\n",
        "model_res"
      ],
      "metadata": {
        "id": "SrrFGkZC54Gs"
      },
      "execution_count": null,
      "outputs": []
    },
    {
      "cell_type": "code",
      "source": [
        "#using random forest\n",
        "from sklearn.ensemble import RandomForestClassifier\n",
        "model2 = RandomForestClassifier(random_state=1)\n",
        "model2.fit(X_train, Y_train)\n",
        "y_pred = model2.predict(X_test)\n",
        "\n",
        "from sklearn.metrics import accuracy_score\n",
        "print(\"Accuracy Score:\",accuracy_score(Y_test,y_pred))\n",
        "model_res.loc[len(model_res)] = ['RandomForestClassifier', accuracy_score(Y_test,y_pred)]\n",
        "model_res"
      ],
      "metadata": {
        "id": "yQNx0g6w6ECm"
      },
      "execution_count": null,
      "outputs": []
    },
    {
      "cell_type": "markdown",
      "source": [
        "**Arranging the predicted values in Ascending order**"
      ],
      "metadata": {
        "id": "XQI0XzwH8E37"
      }
    },
    {
      "cell_type": "code",
      "source": [
        "model_res = model_res.sort_values(by='Score', ascending=False)\n",
        "model_res"
      ],
      "metadata": {
        "id": "5HhMWXTE6K2b"
      },
      "execution_count": null,
      "outputs": []
    }
  ]
}